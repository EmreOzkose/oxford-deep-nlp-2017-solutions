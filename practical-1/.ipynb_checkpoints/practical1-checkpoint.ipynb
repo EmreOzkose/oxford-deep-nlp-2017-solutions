{
 "cells": [
  {
   "cell_type": "markdown",
   "metadata": {},
   "source": [
    "## Practical 1: word2vec\n",
    "<p>Oxford CS - Deep NLP 2017<br>\n",
    "https://www.cs.ox.ac.uk/teaching/courses/2016-2017/dl/</p>\n",
    "<p>[Yannis Assael, Brendan Shillingford, Chris Dyer]</p>"
   ]
  },
  {
   "cell_type": "markdown",
   "metadata": {},
   "source": [
    "This practical is presented as an IPython Notebook, with the code written for recent versions of **Python 3**. The code in this practical will not work with Python 2 unless you modify it. If you are using your own Python installation, ensure you have a setup identical to that described in the installation shell script (which is intended for use with the department lab machines). We will be unable to support installation on personal machines due to time constraints, so please use the lab machines and the setup script if you are unfamiliar with how to install Anaconda.\n",
    "\n",
    "To execute a notebook cell, press `shift-enter`. The return value of the last command will be displayed, if it is not `None`.\n",
    "\n",
    "Potentially useful library documentation, references, and resources:\n",
    "\n",
    "* IPython notebooks: <https://ipython.org/ipython-doc/3/notebook/notebook.html#introduction>\n",
    "* Numpy numerical array library: <https://docs.scipy.org/doc/>\n",
    "* Gensim's word2vec: <https://radimrehurek.com/gensim/models/word2vec.html>\n",
    "* Bokeh interactive plots: <http://bokeh.pydata.org/en/latest/> (we provide plotting code here, but click the thumbnails for more examples to copy-paste)\n",
    "* scikit-learn ML library (aka `sklearn`): <http://scikit-learn.org/stable/documentation.html>\n",
    "* nltk NLP toolkit: <http://www.nltk.org/>\n",
    "* tutorial for processing xml in python using `lxml`: <http://lxml.de/tutorial.html> (we did this for you below, but in case you need it in the future)"
   ]
  },
  {
   "cell_type": "code",
   "execution_count": 1,
   "metadata": {
    "collapsed": false
   },
   "outputs": [],
   "source": [
    "import numpy as np\n",
    "import os\n",
    "from random import shuffle\n",
    "import re"
   ]
  },
  {
   "cell_type": "code",
   "execution_count": 2,
   "metadata": {
    "collapsed": false
   },
   "outputs": [
    {
     "data": {
      "text/html": [
       "\n",
       "    <div class=\"bk-root\">\n",
       "        <a href=\"http://bokeh.pydata.org\" target=\"_blank\" class=\"bk-logo bk-logo-small bk-logo-notebook\"></a>\n",
       "        <span id=\"ee62cdf8-2573-42ce-a08a-ae3a29572b45\">Loading BokehJS ...</span>\n",
       "    </div>"
      ]
     },
     "metadata": {},
     "output_type": "display_data"
    },
    {
     "data": {
      "application/javascript": [
       "\n",
       "(function(global) {\n",
       "  function now() {\n",
       "    return new Date();\n",
       "  }\n",
       "\n",
       "  var force = true;\n",
       "\n",
       "  if (typeof (window._bokeh_onload_callbacks) === \"undefined\" || force === true) {\n",
       "    window._bokeh_onload_callbacks = [];\n",
       "    window._bokeh_is_loading = undefined;\n",
       "  }\n",
       "\n",
       "\n",
       "  \n",
       "  if (typeof (window._bokeh_timeout) === \"undefined\" || force === true) {\n",
       "    window._bokeh_timeout = Date.now() + 5000;\n",
       "    window._bokeh_failed_load = false;\n",
       "  }\n",
       "\n",
       "  var NB_LOAD_WARNING = {'data': {'text/html':\n",
       "     \"<div style='background-color: #fdd'>\\n\"+\n",
       "     \"<p>\\n\"+\n",
       "     \"BokehJS does not appear to have successfully loaded. If loading BokehJS from CDN, this \\n\"+\n",
       "     \"may be due to a slow or bad network connection. Possible fixes:\\n\"+\n",
       "     \"</p>\\n\"+\n",
       "     \"<ul>\\n\"+\n",
       "     \"<li>re-rerun `output_notebook()` to attempt to load from CDN again, or</li>\\n\"+\n",
       "     \"<li>use INLINE resources instead, as so:</li>\\n\"+\n",
       "     \"</ul>\\n\"+\n",
       "     \"<code>\\n\"+\n",
       "     \"from bokeh.resources import INLINE\\n\"+\n",
       "     \"output_notebook(resources=INLINE)\\n\"+\n",
       "     \"</code>\\n\"+\n",
       "     \"</div>\"}};\n",
       "\n",
       "  function display_loaded() {\n",
       "    if (window.Bokeh !== undefined) {\n",
       "      document.getElementById(\"ee62cdf8-2573-42ce-a08a-ae3a29572b45\").textContent = \"BokehJS successfully loaded.\";\n",
       "    } else if (Date.now() < window._bokeh_timeout) {\n",
       "      setTimeout(display_loaded, 100)\n",
       "    }\n",
       "  }\n",
       "\n",
       "  function run_callbacks() {\n",
       "    window._bokeh_onload_callbacks.forEach(function(callback) { callback() });\n",
       "    delete window._bokeh_onload_callbacks\n",
       "    console.info(\"Bokeh: all callbacks have finished\");\n",
       "  }\n",
       "\n",
       "  function load_libs(js_urls, callback) {\n",
       "    window._bokeh_onload_callbacks.push(callback);\n",
       "    if (window._bokeh_is_loading > 0) {\n",
       "      console.log(\"Bokeh: BokehJS is being loaded, scheduling callback at\", now());\n",
       "      return null;\n",
       "    }\n",
       "    if (js_urls == null || js_urls.length === 0) {\n",
       "      run_callbacks();\n",
       "      return null;\n",
       "    }\n",
       "    console.log(\"Bokeh: BokehJS not loaded, scheduling load and callback at\", now());\n",
       "    window._bokeh_is_loading = js_urls.length;\n",
       "    for (var i = 0; i < js_urls.length; i++) {\n",
       "      var url = js_urls[i];\n",
       "      var s = document.createElement('script');\n",
       "      s.src = url;\n",
       "      s.async = false;\n",
       "      s.onreadystatechange = s.onload = function() {\n",
       "        window._bokeh_is_loading--;\n",
       "        if (window._bokeh_is_loading === 0) {\n",
       "          console.log(\"Bokeh: all BokehJS libraries loaded\");\n",
       "          run_callbacks()\n",
       "        }\n",
       "      };\n",
       "      s.onerror = function() {\n",
       "        console.warn(\"failed to load library \" + url);\n",
       "      };\n",
       "      console.log(\"Bokeh: injecting script tag for BokehJS library: \", url);\n",
       "      document.getElementsByTagName(\"head\")[0].appendChild(s);\n",
       "    }\n",
       "  };var element = document.getElementById(\"ee62cdf8-2573-42ce-a08a-ae3a29572b45\");\n",
       "  if (element == null) {\n",
       "    console.log(\"Bokeh: ERROR: autoload.js configured with elementid 'ee62cdf8-2573-42ce-a08a-ae3a29572b45' but no matching script tag was found. \")\n",
       "    return false;\n",
       "  }\n",
       "\n",
       "  var js_urls = [\"https://cdn.pydata.org/bokeh/release/bokeh-0.12.4.min.js\", \"https://cdn.pydata.org/bokeh/release/bokeh-widgets-0.12.4.min.js\"];\n",
       "\n",
       "  var inline_js = [\n",
       "    function(Bokeh) {\n",
       "      Bokeh.set_log_level(\"info\");\n",
       "    },\n",
       "    \n",
       "    function(Bokeh) {\n",
       "      \n",
       "      document.getElementById(\"ee62cdf8-2573-42ce-a08a-ae3a29572b45\").textContent = \"BokehJS is loading...\";\n",
       "    },\n",
       "    function(Bokeh) {\n",
       "      console.log(\"Bokeh: injecting CSS: https://cdn.pydata.org/bokeh/release/bokeh-0.12.4.min.css\");\n",
       "      Bokeh.embed.inject_css(\"https://cdn.pydata.org/bokeh/release/bokeh-0.12.4.min.css\");\n",
       "      console.log(\"Bokeh: injecting CSS: https://cdn.pydata.org/bokeh/release/bokeh-widgets-0.12.4.min.css\");\n",
       "      Bokeh.embed.inject_css(\"https://cdn.pydata.org/bokeh/release/bokeh-widgets-0.12.4.min.css\");\n",
       "    }\n",
       "  ];\n",
       "\n",
       "  function run_inline_js() {\n",
       "    \n",
       "    if ((window.Bokeh !== undefined) || (force === true)) {\n",
       "      for (var i = 0; i < inline_js.length; i++) {\n",
       "        inline_js[i](window.Bokeh);\n",
       "      }if (force === true) {\n",
       "        display_loaded();\n",
       "      }} else if (Date.now() < window._bokeh_timeout) {\n",
       "      setTimeout(run_inline_js, 100);\n",
       "    } else if (!window._bokeh_failed_load) {\n",
       "      console.log(\"Bokeh: BokehJS failed to load within specified timeout.\");\n",
       "      window._bokeh_failed_load = true;\n",
       "    } else if (force !== true) {\n",
       "      var cell = $(document.getElementById(\"ee62cdf8-2573-42ce-a08a-ae3a29572b45\")).parents('.cell').data().cell;\n",
       "      cell.output_area.append_execute_result(NB_LOAD_WARNING)\n",
       "    }\n",
       "\n",
       "  }\n",
       "\n",
       "  if (window._bokeh_is_loading === 0) {\n",
       "    console.log(\"Bokeh: BokehJS loaded, going straight to plotting\");\n",
       "    run_inline_js();\n",
       "  } else {\n",
       "    load_libs(js_urls, function() {\n",
       "      console.log(\"Bokeh: BokehJS plotting callback run at\", now());\n",
       "      run_inline_js();\n",
       "    });\n",
       "  }\n",
       "}(this));"
      ]
     },
     "metadata": {},
     "output_type": "display_data"
    }
   ],
   "source": [
    "from bokeh.models import ColumnDataSource, LabelSet\n",
    "from bokeh.plotting import figure, show, output_file\n",
    "from bokeh.io import output_notebook\n",
    "output_notebook()"
   ]
  },
  {
   "cell_type": "markdown",
   "metadata": {},
   "source": [
    "### Part 0: Download the TED dataset"
   ]
  },
  {
   "cell_type": "code",
   "execution_count": 3,
   "metadata": {
    "collapsed": false
   },
   "outputs": [],
   "source": [
    "import urllib.request\n",
    "import zipfile\n",
    "import lxml.etree"
   ]
  },
  {
   "cell_type": "code",
   "execution_count": 4,
   "metadata": {
    "collapsed": false
   },
   "outputs": [],
   "source": [
    "# Download the dataset if it's not already there: this may take a minute as it is 75MB\n",
    "if not os.path.isfile('ted_en-20160408.zip'):\n",
    "    urllib.request.urlretrieve(\"https://wit3.fbk.eu/get.php?path=XML_releases/xml/ted_en-20160408.zip&filename=ted_en-20160408.zip\", filename=\"ted_en-20160408.zip\")"
   ]
  },
  {
   "cell_type": "code",
   "execution_count": 5,
   "metadata": {
    "collapsed": true
   },
   "outputs": [],
   "source": [
    "# For now, we're only interested in the subtitle text, so let's extract that from the XML:\n",
    "with zipfile.ZipFile('ted_en-20160408.zip', 'r') as z:\n",
    "    doc = lxml.etree.parse(z.open('ted_en-20160408.xml', 'r'))\n",
    "input_text = '\\n'.join(doc.xpath('//content/text()'))\n",
    "del doc"
   ]
  },
  {
   "cell_type": "markdown",
   "metadata": {},
   "source": [
    "### Part 1: Preprocessing\n",
    "\n",
    "In this part, we attempt to clean up the raw subtitles a bit, so that we get only sentences. The following substring shows examples of what we're trying to get rid of. Since it's hard to define precisely what we want to get rid of, we'll just use some simple heuristics."
   ]
  },
  {
   "cell_type": "code",
   "execution_count": 6,
   "metadata": {
    "collapsed": false,
    "scrolled": false
   },
   "outputs": [
    {
     "data": {
      "text/plain": [
       "' baby does.\\n(Video) Hyowon Gweon: See this? (Ball squeaks) Did you see that? (Ball squeaks) Cool. See this one? (Ball squeaks) Wow.\\nLaura Schulz: Told you. (Laughs)\\n(Vide'"
      ]
     },
     "execution_count": 6,
     "metadata": {},
     "output_type": "execute_result"
    }
   ],
   "source": [
    "i = input_text.find(\"Hyowon Gweon: See this?\")\n",
    "input_text[i-20:i+150]"
   ]
  },
  {
   "cell_type": "markdown",
   "metadata": {},
   "source": [
    "Let's start by removing all parenthesized strings using a regex:"
   ]
  },
  {
   "cell_type": "code",
   "execution_count": 7,
   "metadata": {
    "collapsed": true
   },
   "outputs": [],
   "source": [
    "input_text_noparens = re.sub(r'\\([^)]*\\)', '', input_text)"
   ]
  },
  {
   "cell_type": "markdown",
   "metadata": {},
   "source": [
    "We can verify the same location in the text is now clean as follows. We won't worry about the irregular spaces since we'll later split the text into sentences and tokenize it anyway."
   ]
  },
  {
   "cell_type": "code",
   "execution_count": 8,
   "metadata": {
    "collapsed": false
   },
   "outputs": [
    {
     "data": {
      "text/plain": [
       "\"hat the baby does.\\n Hyowon Gweon: See this?  Did you see that?  Cool. See this one?  Wow.\\nLaura Schulz: Told you. \\n HG: See this one?  Hey Clara, this one's for you. You \""
      ]
     },
     "execution_count": 8,
     "metadata": {},
     "output_type": "execute_result"
    }
   ],
   "source": [
    "i = input_text_noparens.find(\"Hyowon Gweon: See this?\")\n",
    "input_text_noparens[i-20:i+150]"
   ]
  },
  {
   "cell_type": "markdown",
   "metadata": {},
   "source": [
    "Now, let's attempt to remove speakers' names that occur at the beginning of a line, by deleting pieces of the form \"`<up to 20 characters>:`\", as shown in this example. Of course, this is an imperfect heuristic. "
   ]
  },
  {
   "cell_type": "code",
   "execution_count": 9,
   "metadata": {
    "collapsed": false
   },
   "outputs": [
    {
     "data": {
      "text/plain": [
       "[\"Here are two reasons companies fail: they only do more of the same, or they only do what's new\",\n",
       " 'To me the real, real solution to quality growth is figuring out the balance between two activities: exploration and exploitation',\n",
       " ' Both are necessary, but it can be too much of a good thing',\n",
       " 'Consider Facit',\n",
       " \" I'm actually old enough to remember them\"]"
      ]
     },
     "execution_count": 9,
     "metadata": {},
     "output_type": "execute_result"
    }
   ],
   "source": [
    "sentences_strings_ted = []\n",
    "for line in input_text_noparens.split('\\n'):\n",
    "    m = re.match(r'^(?:(?P<precolon>[^:]{,20}):)?(?P<postcolon>.*)$', line)\n",
    "    sentences_strings_ted.extend(sent for sent in m.groupdict()['postcolon'].split('.') if sent)\n",
    "\n",
    "# Uncomment if you need to save some RAM: these strings are about 50MB.\n",
    "# del input_text, input_text_noparens\n",
    "\n",
    "# Let's view the first few:\n",
    "sentences_strings_ted[:5]"
   ]
  },
  {
   "cell_type": "markdown",
   "metadata": {},
   "source": [
    "Now that we have sentences, we're ready to tokenize each of them into words. This tokenization is imperfect, of course. For instance, how many tokens is \"can't\", and where/how do we split it? We'll take the simplest naive approach of splitting on spaces. Before splitting, we remove non-alphanumeric characters, such as punctuation. You may want to consider the following question: why do we replace these characters with spaces rather than deleting them? Think of a case where this yields a different answer."
   ]
  },
  {
   "cell_type": "code",
   "execution_count": 10,
   "metadata": {
    "collapsed": false
   },
   "outputs": [],
   "source": [
    "sentences_ted = []\n",
    "for sent_str in sentences_strings_ted:\n",
    "    tokens = re.sub(r\"[^a-z0-9]+\", \" \", sent_str.lower()).split()\n",
    "    sentences_ted.append(tokens)"
   ]
  },
  {
   "cell_type": "markdown",
   "metadata": {},
   "source": [
    "Two sample processed sentences:"
   ]
  },
  {
   "cell_type": "code",
   "execution_count": 11,
   "metadata": {
    "collapsed": false
   },
   "outputs": [
    {
     "data": {
      "text/plain": [
       "266694"
      ]
     },
     "execution_count": 11,
     "metadata": {},
     "output_type": "execute_result"
    }
   ],
   "source": [
    "len(sentences_ted)"
   ]
  },
  {
   "cell_type": "code",
   "execution_count": 12,
   "metadata": {
    "collapsed": false
   },
   "outputs": [
    {
     "name": "stdout",
     "output_type": "stream",
     "text": [
      "['here', 'are', 'two', 'reasons', 'companies', 'fail', 'they', 'only', 'do', 'more', 'of', 'the', 'same', 'or', 'they', 'only', 'do', 'what', 's', 'new']\n",
      "['to', 'me', 'the', 'real', 'real', 'solution', 'to', 'quality', 'growth', 'is', 'figuring', 'out', 'the', 'balance', 'between', 'two', 'activities', 'exploration', 'and', 'exploitation']\n"
     ]
    }
   ],
   "source": [
    "print(sentences_ted[0])\n",
    "print(sentences_ted[1])"
   ]
  },
  {
   "cell_type": "markdown",
   "metadata": {},
   "source": [
    "### Part 2: Word Frequencies"
   ]
  },
  {
   "cell_type": "markdown",
   "metadata": {},
   "source": [
    "If you store the counts of the top 1000 words in a list called `counts_ted_top1000`, the code below will plot the histogram requested in the writeup."
   ]
  },
  {
   "cell_type": "code",
   "execution_count": 13,
   "metadata": {
    "collapsed": false
   },
   "outputs": [],
   "source": [
    "import collections\n",
    "count = collections.Counter()\n",
    "for sentence in sentences_ted:\n",
    "    for word in sentence:\n",
    "        count[word] += 1\n",
    "words_top_ted = [token_count_pair[0] for token_count_pair in count.most_common(1000)]\n",
    "counts_ted_top1000 = [token_count_pair[1] for token_count_pair in count.most_common(1000)]"
   ]
  },
  {
   "cell_type": "markdown",
   "metadata": {},
   "source": [
    "Plot distribution of top-1000 words"
   ]
  },
  {
   "cell_type": "code",
   "execution_count": 14,
   "metadata": {
    "collapsed": false
   },
   "outputs": [
    {
     "data": {
      "text/html": [
       "\n",
       "\n",
       "    <div class=\"bk-root\">\n",
       "        <div class=\"bk-plotdiv\" id=\"b042785e-625b-4520-af47-71dcbbc9bd2e\"></div>\n",
       "    </div>\n",
       "<script type=\"text/javascript\">\n",
       "  \n",
       "  (function(global) {\n",
       "    function now() {\n",
       "      return new Date();\n",
       "    }\n",
       "  \n",
       "    var force = false;\n",
       "  \n",
       "    if (typeof (window._bokeh_onload_callbacks) === \"undefined\" || force === true) {\n",
       "      window._bokeh_onload_callbacks = [];\n",
       "      window._bokeh_is_loading = undefined;\n",
       "    }\n",
       "  \n",
       "  \n",
       "    \n",
       "    if (typeof (window._bokeh_timeout) === \"undefined\" || force === true) {\n",
       "      window._bokeh_timeout = Date.now() + 0;\n",
       "      window._bokeh_failed_load = false;\n",
       "    }\n",
       "  \n",
       "    var NB_LOAD_WARNING = {'data': {'text/html':\n",
       "       \"<div style='background-color: #fdd'>\\n\"+\n",
       "       \"<p>\\n\"+\n",
       "       \"BokehJS does not appear to have successfully loaded. If loading BokehJS from CDN, this \\n\"+\n",
       "       \"may be due to a slow or bad network connection. Possible fixes:\\n\"+\n",
       "       \"</p>\\n\"+\n",
       "       \"<ul>\\n\"+\n",
       "       \"<li>re-rerun `output_notebook()` to attempt to load from CDN again, or</li>\\n\"+\n",
       "       \"<li>use INLINE resources instead, as so:</li>\\n\"+\n",
       "       \"</ul>\\n\"+\n",
       "       \"<code>\\n\"+\n",
       "       \"from bokeh.resources import INLINE\\n\"+\n",
       "       \"output_notebook(resources=INLINE)\\n\"+\n",
       "       \"</code>\\n\"+\n",
       "       \"</div>\"}};\n",
       "  \n",
       "    function display_loaded() {\n",
       "      if (window.Bokeh !== undefined) {\n",
       "        document.getElementById(\"b042785e-625b-4520-af47-71dcbbc9bd2e\").textContent = \"BokehJS successfully loaded.\";\n",
       "      } else if (Date.now() < window._bokeh_timeout) {\n",
       "        setTimeout(display_loaded, 100)\n",
       "      }\n",
       "    }\n",
       "  \n",
       "    function run_callbacks() {\n",
       "      window._bokeh_onload_callbacks.forEach(function(callback) { callback() });\n",
       "      delete window._bokeh_onload_callbacks\n",
       "      console.info(\"Bokeh: all callbacks have finished\");\n",
       "    }\n",
       "  \n",
       "    function load_libs(js_urls, callback) {\n",
       "      window._bokeh_onload_callbacks.push(callback);\n",
       "      if (window._bokeh_is_loading > 0) {\n",
       "        console.log(\"Bokeh: BokehJS is being loaded, scheduling callback at\", now());\n",
       "        return null;\n",
       "      }\n",
       "      if (js_urls == null || js_urls.length === 0) {\n",
       "        run_callbacks();\n",
       "        return null;\n",
       "      }\n",
       "      console.log(\"Bokeh: BokehJS not loaded, scheduling load and callback at\", now());\n",
       "      window._bokeh_is_loading = js_urls.length;\n",
       "      for (var i = 0; i < js_urls.length; i++) {\n",
       "        var url = js_urls[i];\n",
       "        var s = document.createElement('script');\n",
       "        s.src = url;\n",
       "        s.async = false;\n",
       "        s.onreadystatechange = s.onload = function() {\n",
       "          window._bokeh_is_loading--;\n",
       "          if (window._bokeh_is_loading === 0) {\n",
       "            console.log(\"Bokeh: all BokehJS libraries loaded\");\n",
       "            run_callbacks()\n",
       "          }\n",
       "        };\n",
       "        s.onerror = function() {\n",
       "          console.warn(\"failed to load library \" + url);\n",
       "        };\n",
       "        console.log(\"Bokeh: injecting script tag for BokehJS library: \", url);\n",
       "        document.getElementsByTagName(\"head\")[0].appendChild(s);\n",
       "      }\n",
       "    };var element = document.getElementById(\"b042785e-625b-4520-af47-71dcbbc9bd2e\");\n",
       "    if (element == null) {\n",
       "      console.log(\"Bokeh: ERROR: autoload.js configured with elementid 'b042785e-625b-4520-af47-71dcbbc9bd2e' but no matching script tag was found. \")\n",
       "      return false;\n",
       "    }\n",
       "  \n",
       "    var js_urls = [];\n",
       "  \n",
       "    var inline_js = [\n",
       "      function(Bokeh) {\n",
       "        (function() {\n",
       "          var fn = function() {\n",
       "            var docs_json = {\"f9114100-10c5-4e53-8ec7-f8871330a1fb\":{\"roots\":{\"references\":[{\"attributes\":{\"bottom\":{\"value\":0},\"fill_alpha\":{\"value\":0.1},\"fill_color\":{\"value\":\"#1f77b4\"},\"left\":{\"field\":\"left\"},\"line_alpha\":{\"value\":0.1},\"line_color\":{\"value\":\"#1f77b4\"},\"right\":{\"field\":\"right\"},\"top\":{\"field\":\"top\"}},\"id\":\"1c6c9c0c-c95b-4a88-8507-8934589656ca\",\"type\":\"Quad\"},{\"attributes\":{\"plot\":{\"id\":\"2167b090-0248-4c33-aa89-a23b0399e516\",\"subtype\":\"Figure\",\"type\":\"Plot\"}},\"id\":\"ee0f3a92-9ea8-43e5-bfb8-4a57302f662c\",\"type\":\"ResetTool\"},{\"attributes\":{\"below\":[{\"id\":\"08c36bbc-cd6b-4969-b6fa-ec6fe8c5265e\",\"type\":\"LinearAxis\"}],\"left\":[{\"id\":\"b68f5b32-c316-4485-8b26-80706e8e43c9\",\"type\":\"LinearAxis\"}],\"renderers\":[{\"id\":\"08c36bbc-cd6b-4969-b6fa-ec6fe8c5265e\",\"type\":\"LinearAxis\"},{\"id\":\"8d84e791-2794-405a-8975-a5c1290d8b01\",\"type\":\"Grid\"},{\"id\":\"b68f5b32-c316-4485-8b26-80706e8e43c9\",\"type\":\"LinearAxis\"},{\"id\":\"315b1ef2-34f8-4f10-883f-4597d5c20265\",\"type\":\"Grid\"},{\"id\":\"f53022b9-ffb9-4d51-8062-81ac6a1e4396\",\"type\":\"GlyphRenderer\"}],\"title\":{\"id\":\"b78cce4d-f884-4795-bd67-2ae02b1bf51e\",\"type\":\"Title\"},\"tool_events\":{\"id\":\"26422884-7b79-4e91-b539-54744397685d\",\"type\":\"ToolEvents\"},\"toolbar\":{\"id\":\"3c44115e-d336-4c15-b922-c1d746c635d3\",\"type\":\"Toolbar\"},\"toolbar_location\":\"above\",\"x_range\":{\"id\":\"5afc6066-72db-4bda-87bd-4ff222a4ad09\",\"type\":\"DataRange1d\"},\"y_range\":{\"id\":\"895c9c09-9bbf-42e5-8bf9-3ddc581a8760\",\"type\":\"DataRange1d\"}},\"id\":\"2167b090-0248-4c33-aa89-a23b0399e516\",\"subtype\":\"Figure\",\"type\":\"Plot\"},{\"attributes\":{\"formatter\":{\"id\":\"cba0c393-7643-4e64-a4ad-5bc290c8dced\",\"type\":\"BasicTickFormatter\"},\"plot\":{\"id\":\"2167b090-0248-4c33-aa89-a23b0399e516\",\"subtype\":\"Figure\",\"type\":\"Plot\"},\"ticker\":{\"id\":\"0f0405cc-8e1a-412f-8531-2f1d3172f706\",\"type\":\"BasicTicker\"}},\"id\":\"b68f5b32-c316-4485-8b26-80706e8e43c9\",\"type\":\"LinearAxis\"},{\"attributes\":{},\"id\":\"af377c3a-880b-4033-873f-586e324fb8e7\",\"type\":\"BasicTickFormatter\"},{\"attributes\":{},\"id\":\"26422884-7b79-4e91-b539-54744397685d\",\"type\":\"ToolEvents\"},{\"attributes\":{\"data_source\":{\"id\":\"13044458-4589-453b-95e8-140f2c76688f\",\"type\":\"ColumnDataSource\"},\"glyph\":{\"id\":\"ba24eb62-d580-4549-88af-30fda362bbe1\",\"type\":\"Quad\"},\"hover_glyph\":null,\"nonselection_glyph\":{\"id\":\"1c6c9c0c-c95b-4a88-8507-8934589656ca\",\"type\":\"Quad\"},\"selection_glyph\":null},\"id\":\"f53022b9-ffb9-4d51-8062-81ac6a1e4396\",\"type\":\"GlyphRenderer\"},{\"attributes\":{\"plot\":{\"id\":\"2167b090-0248-4c33-aa89-a23b0399e516\",\"subtype\":\"Figure\",\"type\":\"Plot\"}},\"id\":\"f94e211a-18df-43f7-a7bf-54f491aead2f\",\"type\":\"SaveTool\"},{\"attributes\":{\"callback\":null},\"id\":\"895c9c09-9bbf-42e5-8bf9-3ddc581a8760\",\"type\":\"DataRange1d\"},{\"attributes\":{\"active_drag\":\"auto\",\"active_scroll\":\"auto\",\"active_tap\":\"auto\",\"tools\":[{\"id\":\"25254ce7-9e40-4e18-bb4c-63d1203ee767\",\"type\":\"PanTool\"},{\"id\":\"241cd00f-bfe4-4e18-aec1-97a57b91e3eb\",\"type\":\"WheelZoomTool\"},{\"id\":\"ee0f3a92-9ea8-43e5-bfb8-4a57302f662c\",\"type\":\"ResetTool\"},{\"id\":\"f94e211a-18df-43f7-a7bf-54f491aead2f\",\"type\":\"SaveTool\"}]},\"id\":\"3c44115e-d336-4c15-b922-c1d746c635d3\",\"type\":\"Toolbar\"},{\"attributes\":{\"callback\":null,\"column_names\":[\"left\",\"right\",\"top\"],\"data\":{\"left\":{\"__ndarray__\":\"AAAAAABAeUB7FK5H4VqjQHsUrkfhxrFAuB6F61HguUB7FK5H4fzAQJqZmZmZCcVAuB6F61EWyUDXo3A9CiPNQHsUrkfhl9BACtejcD2e0kCamZmZmaTUQClcj8L1qtZAuB6F61Gx2EBI4XoUrrfaQNejcD0KvtxAZ2ZmZmbE3kB7FK5HYWXgQMP1KFyPaOFACtejcL1r4kBSuB6F627jQJqZmZkZcuRA4XoUrkd15UApXI/CdXjmQHE9Cteje+dAuB6F69F+6EAAAAAAAILpQEjhehQuhepAkML1KFyI60DXo3A9iovsQB+F61G4ju1AZ2ZmZuaR7kCuR+F6FJXvQHsUrkchTPBAH4XrUbjN8EDD9ShcT0/xQGdmZmbm0PFACtejcH1S8kCuR+F6FNTyQFK4HoWrVfNA9ihcj0LX80CamZmZ2Vj0QD4K16Nw2vRA4XoUrgdc9UCF61G4nt31QClcj8I1X/ZAzczMzMzg9kBxPQrXY2L3QBWuR+H64/dAuB6F65Fl+EBcj8L1KOf4QAAAAADAaPlApHA9Clfq+UBI4XoU7mv6QOxRuB6F7fpAkML1KBxv+0AzMzMzs/D7QNejcD1KcvxAexSuR+Hz/EAfhetReHX9QMP1KFwP9/1AZ2ZmZqZ4/kAK16NwPfr+QK5H4XrUe/9AUrgehWv9/0B7FK5HgT8AQc3MzMxMgABBH4XrURjBAEFxPQrX4wEBQcP1KFyvQgFBFa5H4XqDAUFnZmZmRsQBQbgehesRBQJBCtejcN1FAkFcj8L1qIYCQa5H4Xp0xwJBAAAAAEAIA0FSuB6FC0kDQaRwPQrXiQNB9ihcj6LKA0FI4XoUbgsEQZqZmZk5TARB7FG4HgWNBEE+Ctej0M0EQZDC9SicDgVB4XoUrmdPBUEzMzMzM5AFQYXrUbj+0AVB16NwPcoRBkEpXI/ClVIGQXsUrkdhkwZBzczMzCzUBkEfhetR+BQHQXE9CtfDVQdBw/UoXI+WB0EVrkfhWtcHQWdmZmYmGAhBuB6F6/FYCEEK16NwvZkIQVyPwvWI2ghBrkfhelQbCUE=\",\"dtype\":\"float64\",\"shape\":[100]},\"right\":{\"__ndarray__\":\"exSuR+Fao0B7FK5H4caxQLgehetR4LlAexSuR+H8wECamZmZmQnFQLgehetRFslA16NwPQojzUB7FK5H4ZfQQArXo3A9ntJAmpmZmZmk1EApXI/C9arWQLgehetRsdhASOF6FK632kDXo3A9Cr7cQGdmZmZmxN5AexSuR2Fl4EDD9Shcj2jhQArXo3C9a+JAUrgehetu40CamZmZGXLkQOF6FK5HdeVAKVyPwnV45kBxPQrXo3vnQLgehevRfuhAAAAAAACC6UBI4XoULoXqQJDC9ShciOtA16NwPYqL7EAfhetRuI7tQGdmZmbmke5ArkfhehSV70B7FK5HIUzwQB+F61G4zfBAw/UoXE9P8UBnZmZm5tDxQArXo3B9UvJArkfhehTU8kBSuB6Fq1XzQPYoXI9C1/NAmpmZmdlY9EA+CtejcNr0QOF6FK4HXPVAhetRuJ7d9UApXI/CNV/2QM3MzMzM4PZAcT0K12Ni90AVrkfh+uP3QLgeheuRZfhAXI/C9Sjn+EAAAAAAwGj5QKRwPQpX6vlASOF6FO5r+kDsUbgehe36QJDC9Sgcb/tAMzMzM7Pw+0DXo3A9SnL8QHsUrkfh8/xAH4XrUXh1/UDD9ShcD/f9QGdmZmameP5ACtejcD36/kCuR+F61Hv/QFK4HoVr/f9AexSuR4E/AEHNzMzMTIAAQR+F61EYwQBBcT0K1+MBAUHD9Shcr0IBQRWuR+F6gwFBZ2ZmZkbEAUG4HoXrEQUCQQrXo3DdRQJBXI/C9aiGAkGuR+F6dMcCQQAAAABACANBUrgehQtJA0GkcD0K14kDQfYoXI+iygNBSOF6FG4LBEGamZmZOUwEQexRuB4FjQRBPgrXo9DNBEGQwvUonA4FQeF6FK5nTwVBMzMzMzOQBUGF61G4/tAFQdejcD3KEQZBKVyPwpVSBkF7FK5HYZMGQc3MzMws1AZBH4XrUfgUB0FxPQrXw1UHQcP1KFyPlgdBFa5H4VrXB0FnZmZmJhgIQbgehevxWAhBCtejcL2ZCEFcj8L1iNoIQa5H4XpUGwlBAAAAACBcCUE=\",\"dtype\":\"float64\",\"shape\":[100]},\"top\":{\"__ndarray__\":\"50H1zNSBOT/ypb1tgHIBPwsriUb5Uew+zuTFiLI04j78kGUPxTHhPh40R25oQNY+zuTFiLI00j4pPQWW1y7APsTbB2FDRsg+JT0FltcuwD4tPQWW1y6wPi09BZbXLrA+JT0FltcuwD4tPQWW1y6gPiU9BZbXLrA+LT0FltcuoD4AAAAAAAAAADU9BZbXLqA+AAAAAAAAAAAAAAAAAAAAAAAAAAAAAAAAAAAAAAAAAAAAAAAAAAAAADU9BZbXLqA+AAAAAAAAAAAAAAAAAAAAAAAAAAAAAAAANT0FltcuoD4AAAAAAAAAAAAAAAAAAAAANT0FltcuoD4AAAAAAAAAACU9BZbXLqA+AAAAAAAAAAAlPQWW1y6gPkU9BZbXLqA+AAAAAAAAAAAlPQWW1y6gPgAAAAAAAAAAJT0FltcuoD4AAAAAAAAAAAAAAAAAAAAAAAAAAAAAAAAAAAAAAAAAAAAAAAAAAAAAJT0FltcuoD4AAAAAAAAAAAAAAAAAAAAAAAAAAAAAAAAAAAAAAAAAACU9BZbXLqA+AAAAAAAAAAAAAAAAAAAAAAAAAAAAAAAAAAAAAAAAAAAlPQWW1y6gPgAAAAAAAAAAAAAAAAAAAAAAAAAAAAAAAAAAAAAAAAAART0FltcuoD4AAAAAAAAAAAAAAAAAAAAAAAAAAAAAAAAAAAAAAAAAAAAAAAAAAAAAAAAAAAAAAAAAAAAAAAAAAAAAAAAAAAAAAAAAAAAAAAAAAAAAAAAAACU9BZbXLqA+AAAAAAAAAAAAAAAAAAAAAAAAAAAAAAAAAAAAAAAAAAAAAAAAAAAAAAAAAAAAAAAAAAAAAAAAAAAAAAAAAAAAAAAAAAAAAAAAAAAAAAAAAAAAAAAAAAAAAAAAAAAAAAAAAAAAAAAAAAAAAAAAAAAAAAAAAAAAAAAAAAAAAAAAAAAAAAAAAAAAAAAAAAAAAAAAAAAAAAAAAAAAAAAAAAAAAAAAAAAAAAAAAAAAAAAAAAAAAAAAAAAAAAAAAAAAAAAAAAAAAAAAAAAAAAAAAAAAAAAAAAAAAAAAJT0FltcuoD4=\",\"dtype\":\"float64\",\"shape\":[100]}}},\"id\":\"13044458-4589-453b-95e8-140f2c76688f\",\"type\":\"ColumnDataSource\"},{\"attributes\":{},\"id\":\"0f0405cc-8e1a-412f-8531-2f1d3172f706\",\"type\":\"BasicTicker\"},{\"attributes\":{\"plot\":{\"id\":\"2167b090-0248-4c33-aa89-a23b0399e516\",\"subtype\":\"Figure\",\"type\":\"Plot\"}},\"id\":\"241cd00f-bfe4-4e18-aec1-97a57b91e3eb\",\"type\":\"WheelZoomTool\"},{\"attributes\":{\"formatter\":{\"id\":\"af377c3a-880b-4033-873f-586e324fb8e7\",\"type\":\"BasicTickFormatter\"},\"plot\":{\"id\":\"2167b090-0248-4c33-aa89-a23b0399e516\",\"subtype\":\"Figure\",\"type\":\"Plot\"},\"ticker\":{\"id\":\"29f65269-0e88-4cb7-8e96-5ad26c8930f1\",\"type\":\"BasicTicker\"}},\"id\":\"08c36bbc-cd6b-4969-b6fa-ec6fe8c5265e\",\"type\":\"LinearAxis\"},{\"attributes\":{\"plot\":null,\"text\":\"Top-1000 words distribution\"},\"id\":\"b78cce4d-f884-4795-bd67-2ae02b1bf51e\",\"type\":\"Title\"},{\"attributes\":{},\"id\":\"cba0c393-7643-4e64-a4ad-5bc290c8dced\",\"type\":\"BasicTickFormatter\"},{\"attributes\":{\"callback\":null},\"id\":\"5afc6066-72db-4bda-87bd-4ff222a4ad09\",\"type\":\"DataRange1d\"},{\"attributes\":{\"plot\":{\"id\":\"2167b090-0248-4c33-aa89-a23b0399e516\",\"subtype\":\"Figure\",\"type\":\"Plot\"},\"ticker\":{\"id\":\"29f65269-0e88-4cb7-8e96-5ad26c8930f1\",\"type\":\"BasicTicker\"}},\"id\":\"8d84e791-2794-405a-8975-a5c1290d8b01\",\"type\":\"Grid\"},{\"attributes\":{},\"id\":\"29f65269-0e88-4cb7-8e96-5ad26c8930f1\",\"type\":\"BasicTicker\"},{\"attributes\":{\"plot\":{\"id\":\"2167b090-0248-4c33-aa89-a23b0399e516\",\"subtype\":\"Figure\",\"type\":\"Plot\"}},\"id\":\"25254ce7-9e40-4e18-bb4c-63d1203ee767\",\"type\":\"PanTool\"},{\"attributes\":{\"dimension\":1,\"plot\":{\"id\":\"2167b090-0248-4c33-aa89-a23b0399e516\",\"subtype\":\"Figure\",\"type\":\"Plot\"},\"ticker\":{\"id\":\"0f0405cc-8e1a-412f-8531-2f1d3172f706\",\"type\":\"BasicTicker\"}},\"id\":\"315b1ef2-34f8-4f10-883f-4597d5c20265\",\"type\":\"Grid\"},{\"attributes\":{\"bottom\":{\"value\":0},\"fill_color\":{\"value\":\"#1f77b4\"},\"left\":{\"field\":\"left\"},\"line_color\":{\"value\":\"#555555\"},\"right\":{\"field\":\"right\"},\"top\":{\"field\":\"top\"}},\"id\":\"ba24eb62-d580-4549-88af-30fda362bbe1\",\"type\":\"Quad\"}],\"root_ids\":[\"2167b090-0248-4c33-aa89-a23b0399e516\"]},\"title\":\"Bokeh Application\",\"version\":\"0.12.4\"}};\n",
       "            var render_items = [{\"docid\":\"f9114100-10c5-4e53-8ec7-f8871330a1fb\",\"elementid\":\"b042785e-625b-4520-af47-71dcbbc9bd2e\",\"modelid\":\"2167b090-0248-4c33-aa89-a23b0399e516\"}];\n",
       "            \n",
       "            Bokeh.embed.embed_items(docs_json, render_items);\n",
       "          };\n",
       "          if (document.readyState != \"loading\") fn();\n",
       "          else document.addEventListener(\"DOMContentLoaded\", fn);\n",
       "        })();\n",
       "      },\n",
       "      function(Bokeh) {\n",
       "      }\n",
       "    ];\n",
       "  \n",
       "    function run_inline_js() {\n",
       "      \n",
       "      if ((window.Bokeh !== undefined) || (force === true)) {\n",
       "        for (var i = 0; i < inline_js.length; i++) {\n",
       "          inline_js[i](window.Bokeh);\n",
       "        }if (force === true) {\n",
       "          display_loaded();\n",
       "        }} else if (Date.now() < window._bokeh_timeout) {\n",
       "        setTimeout(run_inline_js, 100);\n",
       "      } else if (!window._bokeh_failed_load) {\n",
       "        console.log(\"Bokeh: BokehJS failed to load within specified timeout.\");\n",
       "        window._bokeh_failed_load = true;\n",
       "      } else if (force !== true) {\n",
       "        var cell = $(document.getElementById(\"b042785e-625b-4520-af47-71dcbbc9bd2e\")).parents('.cell').data().cell;\n",
       "        cell.output_area.append_execute_result(NB_LOAD_WARNING)\n",
       "      }\n",
       "  \n",
       "    }\n",
       "  \n",
       "    if (window._bokeh_is_loading === 0) {\n",
       "      console.log(\"Bokeh: BokehJS loaded, going straight to plotting\");\n",
       "      run_inline_js();\n",
       "    } else {\n",
       "      load_libs(js_urls, function() {\n",
       "        console.log(\"Bokeh: BokehJS plotting callback run at\", now());\n",
       "        run_inline_js();\n",
       "      });\n",
       "    }\n",
       "  }(this));\n",
       "</script>"
      ]
     },
     "metadata": {},
     "output_type": "display_data"
    }
   ],
   "source": [
    "hist, edges = np.histogram(counts_ted_top1000, density=True, bins=100, normed=True)\n",
    "\n",
    "p = figure(tools=\"pan,wheel_zoom,reset,save\",\n",
    "           toolbar_location=\"above\",\n",
    "           title=\"Top-1000 words distribution\")\n",
    "p.quad(top=hist, bottom=0, left=edges[:-1], right=edges[1:], line_color=\"#555555\")\n",
    "show(p)"
   ]
  },
  {
   "cell_type": "markdown",
   "metadata": {},
   "source": [
    "### Part 3: Train Word2Vec"
   ]
  },
  {
   "cell_type": "code",
   "execution_count": 15,
   "metadata": {
    "collapsed": false
   },
   "outputs": [],
   "source": [
    "from gensim.models import Word2Vec"
   ]
  },
  {
   "cell_type": "code",
   "execution_count": 16,
   "metadata": {
    "collapsed": false
   },
   "outputs": [],
   "source": [
    "model_ted = Word2Vec(sentences_ted, min_count=1)"
   ]
  },
  {
   "cell_type": "markdown",
   "metadata": {},
   "source": [
    "### Part 4: Ted Learnt Representations"
   ]
  },
  {
   "cell_type": "markdown",
   "metadata": {},
   "source": [
    "Finding similar words: (see gensim docs for more functionality of `most_similar`)"
   ]
  },
  {
   "cell_type": "code",
   "execution_count": 17,
   "metadata": {
    "collapsed": false
   },
   "outputs": [
    {
     "data": {
      "text/plain": [
       "[('woman', 0.8664031028747559),\n",
       " ('guy', 0.8393100500106812),\n",
       " ('girl', 0.7730793952941895),\n",
       " ('lady', 0.7594919800758362),\n",
       " ('boy', 0.7583644390106201),\n",
       " ('gentleman', 0.7399431467056274),\n",
       " ('kid', 0.7121462821960449),\n",
       " ('soldier', 0.6949282884597778),\n",
       " ('son', 0.6559008955955505),\n",
       " ('friend', 0.6493818759918213)]"
      ]
     },
     "execution_count": 17,
     "metadata": {},
     "output_type": "execute_result"
    }
   ],
   "source": [
    "model_ted.most_similar(\"man\")"
   ]
  },
  {
   "cell_type": "code",
   "execution_count": 18,
   "metadata": {
    "collapsed": false
   },
   "outputs": [
    {
     "data": {
      "text/plain": [
       "[('machine', 0.7369269728660583),\n",
       " ('software', 0.7266139984130859),\n",
       " ('robot', 0.7002089023590088),\n",
       " ('3d', 0.6868565082550049),\n",
       " ('device', 0.6822378635406494),\n",
       " ('video', 0.6576663255691528),\n",
       " ('program', 0.652044951915741),\n",
       " ('mechanical', 0.643177330493927),\n",
       " ('satellite', 0.6395020484924316),\n",
       " ('camera', 0.6366315484046936)]"
      ]
     },
     "execution_count": 18,
     "metadata": {},
     "output_type": "execute_result"
    }
   ],
   "source": [
    "model_ted.most_similar(\"computer\")"
   ]
  },
  {
   "cell_type": "code",
   "execution_count": 19,
   "metadata": {
    "collapsed": false
   },
   "outputs": [
    {
     "data": {
      "text/plain": [
       "[('communication', 0.7934234738349915),\n",
       " ('computing', 0.7710655927658081),\n",
       " ('collective', 0.7678982615470886),\n",
       " ('communications', 0.7650832533836365),\n",
       " ('knowledge', 0.7582662105560303),\n",
       " ('capability', 0.7484580278396606),\n",
       " ('awareness', 0.7432571649551392),\n",
       " ('framework', 0.7328224182128906),\n",
       " ('talent', 0.7290586829185486),\n",
       " ('logic', 0.7253329753875732)]"
      ]
     },
     "execution_count": 19,
     "metadata": {},
     "output_type": "execute_result"
    }
   ],
   "source": [
    "model_ted.most_similar(\"intelligence\")"
   ]
  },
  {
   "cell_type": "markdown",
   "metadata": {},
   "source": [
    "#### t-SNE visualization\n",
    "To use the t-SNE code below, first put a list of the top 1000 words (as strings) into a variable `words_top_ted`. The following code gets the corresponding vectors from the model, assuming it's called `model_ted`:"
   ]
  },
  {
   "cell_type": "code",
   "execution_count": 20,
   "metadata": {
    "collapsed": false
   },
   "outputs": [],
   "source": [
    "# This assumes words_top_ted is a list of strings, the top 1000 words\n",
    "words_top_vec_ted = model_ted[words_top_ted]"
   ]
  },
  {
   "cell_type": "code",
   "execution_count": 21,
   "metadata": {
    "collapsed": false
   },
   "outputs": [],
   "source": [
    "from sklearn.manifold import TSNE\n",
    "tsne = TSNE(n_components=2, random_state=0)\n",
    "words_top_ted_tsne = tsne.fit_transform(words_top_vec_ted)"
   ]
  },
  {
   "cell_type": "code",
   "execution_count": 22,
   "metadata": {
    "collapsed": false
   },
   "outputs": [
    {
     "data": {
      "text/html": [
       "\n",
       "\n",
       "    <div class=\"bk-root\">\n",
       "        <div class=\"bk-plotdiv\" id=\"c6df85a6-a774-4927-b6ab-90d7ea9ad5c0\"></div>\n",
       "    </div>\n",
       "<script type=\"text/javascript\">\n",
       "  \n",
       "  (function(global) {\n",
       "    function now() {\n",
       "      return new Date();\n",
       "    }\n",
       "  \n",
       "    var force = false;\n",
       "  \n",
       "    if (typeof (window._bokeh_onload_callbacks) === \"undefined\" || force === true) {\n",
       "      window._bokeh_onload_callbacks = [];\n",
       "      window._bokeh_is_loading = undefined;\n",
       "    }\n",
       "  \n",
       "  \n",
       "    \n",
       "    if (typeof (window._bokeh_timeout) === \"undefined\" || force === true) {\n",
       "      window._bokeh_timeout = Date.now() + 0;\n",
       "      window._bokeh_failed_load = false;\n",
       "    }\n",
       "  \n",
       "    var NB_LOAD_WARNING = {'data': {'text/html':\n",
       "       \"<div style='background-color: #fdd'>\\n\"+\n",
       "       \"<p>\\n\"+\n",
       "       \"BokehJS does not appear to have successfully loaded. If loading BokehJS from CDN, this \\n\"+\n",
       "       \"may be due to a slow or bad network connection. Possible fixes:\\n\"+\n",
       "       \"</p>\\n\"+\n",
       "       \"<ul>\\n\"+\n",
       "       \"<li>re-rerun `output_notebook()` to attempt to load from CDN again, or</li>\\n\"+\n",
       "       \"<li>use INLINE resources instead, as so:</li>\\n\"+\n",
       "       \"</ul>\\n\"+\n",
       "       \"<code>\\n\"+\n",
       "       \"from bokeh.resources import INLINE\\n\"+\n",
       "       \"output_notebook(resources=INLINE)\\n\"+\n",
       "       \"</code>\\n\"+\n",
       "       \"</div>\"}};\n",
       "  \n",
       "    function display_loaded() {\n",
       "      if (window.Bokeh !== undefined) {\n",
       "        document.getElementById(\"c6df85a6-a774-4927-b6ab-90d7ea9ad5c0\").textContent = \"BokehJS successfully loaded.\";\n",
       "      } else if (Date.now() < window._bokeh_timeout) {\n",
       "        setTimeout(display_loaded, 100)\n",
       "      }\n",
       "    }\n",
       "  \n",
       "    function run_callbacks() {\n",
       "      window._bokeh_onload_callbacks.forEach(function(callback) { callback() });\n",
       "      delete window._bokeh_onload_callbacks\n",
       "      console.info(\"Bokeh: all callbacks have finished\");\n",
       "    }\n",
       "  \n",
       "    function load_libs(js_urls, callback) {\n",
       "      window._bokeh_onload_callbacks.push(callback);\n",
       "      if (window._bokeh_is_loading > 0) {\n",
       "        console.log(\"Bokeh: BokehJS is being loaded, scheduling callback at\", now());\n",
       "        return null;\n",
       "      }\n",
       "      if (js_urls == null || js_urls.length === 0) {\n",
       "        run_callbacks();\n",
       "        return null;\n",
       "      }\n",
       "      console.log(\"Bokeh: BokehJS not loaded, scheduling load and callback at\", now());\n",
       "      window._bokeh_is_loading = js_urls.length;\n",
       "      for (var i = 0; i < js_urls.length; i++) {\n",
       "        var url = js_urls[i];\n",
       "        var s = document.createElement('script');\n",
       "        s.src = url;\n",
       "        s.async = false;\n",
       "        s.onreadystatechange = s.onload = function() {\n",
       "          window._bokeh_is_loading--;\n",
       "          if (window._bokeh_is_loading === 0) {\n",
       "            console.log(\"Bokeh: all BokehJS libraries loaded\");\n",
       "            run_callbacks()\n",
       "          }\n",
       "        };\n",
       "        s.onerror = function() {\n",
       "          console.warn(\"failed to load library \" + url);\n",
       "        };\n",
       "        console.log(\"Bokeh: injecting script tag for BokehJS library: \", url);\n",
       "        document.getElementsByTagName(\"head\")[0].appendChild(s);\n",
       "      }\n",
       "    };var element = document.getElementById(\"c6df85a6-a774-4927-b6ab-90d7ea9ad5c0\");\n",
       "    if (element == null) {\n",
       "      console.log(\"Bokeh: ERROR: autoload.js configured with elementid 'c6df85a6-a774-4927-b6ab-90d7ea9ad5c0' but no matching script tag was found. \")\n",
       "      return false;\n",
       "    }\n",
       "  \n",
       "    var js_urls = [];\n",
       "  \n",
       "    var inline_js = [\n",
       "      function(Bokeh) {\n",
       "        (function() {\n",
       "          var fn = function() {\n",
       "            var docs_json = {\"1798e151-fe2c-40a7-bf90-82f9a63fdbbb\":{\"roots\":{\"references\":[{\"attributes\":{\"fill_color\":{\"value\":\"#1f77b4\"},\"line_color\":{\"value\":\"#1f77b4\"},\"size\":{\"units\":\"screen\",\"value\":8},\"x\":{\"field\":\"x1\"},\"y\":{\"field\":\"x2\"}},\"id\":\"c5801a9b-afca-4859-a0f0-74fcac612fdf\",\"type\":\"Circle\"},{\"attributes\":{\"callback\":null,\"column_names\":[\"x1\",\"x2\",\"names\"],\"data\":{\"names\":[\"the\",\"and\",\"to\",\"of\",\"a\",\"that\",\"i\",\"in\",\"it\",\"you\",\"we\",\"is\",\"s\",\"this\",\"so\",\"they\",\"was\",\"for\",\"are\",\"have\",\"but\",\"what\",\"on\",\"with\",\"can\",\"t\",\"about\",\"there\",\"be\",\"as\",\"at\",\"all\",\"not\",\"do\",\"my\",\"one\",\"re\",\"people\",\"like\",\"if\",\"from\",\"now\",\"our\",\"he\",\"an\",\"just\",\"these\",\"or\",\"when\",\"because\",\"very\",\"me\",\"out\",\"by\",\"them\",\"how\",\"know\",\"up\",\"going\",\"had\",\"more\",\"think\",\"who\",\"were\",\"see\",\"your\",\"their\",\"which\",\"would\",\"here\",\"really\",\"get\",\"ve\",\"then\",\"m\",\"world\",\"us\",\"time\",\"some\",\"has\",\"don\",\"actually\",\"into\",\"way\",\"where\",\"will\",\"years\",\"things\",\"other\",\"no\",\"could\",\"go\",\"well\",\"want\",\"been\",\"make\",\"right\",\"she\",\"said\",\"something\",\"those\",\"first\",\"two\",\"than\",\"much\",\"also\",\"look\",\"new\",\"thing\",\"little\",\"got\",\"back\",\"over\",\"most\",\"say\",\"even\",\"his\",\"life\",\"only\",\"work\",\"many\",\"take\",\"need\",\"did\",\"lot\",\"kind\",\"why\",\"good\",\"around\",\"every\",\"different\",\"down\",\"ll\",\"let\",\"her\",\"through\",\"same\",\"being\",\"come\",\"d\",\"day\",\"year\",\"three\",\"use\",\"doing\",\"put\",\"called\",\"any\",\"today\",\"percent\",\"made\",\"after\",\"thank\",\"tell\",\"great\",\"human\",\"find\",\"didn\",\"fact\",\"talk\",\"change\",\"started\",\"another\",\"idea\",\"big\",\"last\",\"own\",\"before\",\"its\",\"never\",\"should\",\"better\",\"give\",\"thought\",\"went\",\"might\",\"important\",\"000\",\"again\",\"able\",\"together\",\"still\",\"problem\",\"off\",\"next\",\"part\",\"course\",\"system\",\"him\",\"does\",\"each\",\"start\",\"show\",\"long\",\"ago\",\"story\",\"came\",\"brain\",\"few\",\"bit\",\"between\",\"used\",\"place\",\"technology\",\"women\",\"too\",\"old\",\"mean\",\"data\",\"water\",\"looking\",\"question\",\"maybe\",\"found\",\"love\",\"doesn\",\"end\",\"example\",\"10\",\"done\",\"point\",\"four\",\"real\",\"wanted\",\"ever\",\"school\",\"understand\",\"sort\",\"live\",\"call\",\"whole\",\"children\",\"always\",\"trying\",\"may\",\"person\",\"away\",\"feel\",\"believe\",\"try\",\"million\",\"working\",\"help\",\"everything\",\"five\",\"country\",\"thinking\",\"second\",\"using\",\"information\",\"money\",\"means\",\"took\",\"power\",\"times\",\"high\",\"space\",\"number\",\"kids\",\"home\",\"become\",\"create\",\"small\",\"design\",\"making\",\"best\",\"left\",\"getting\",\"future\",\"enough\",\"man\",\"quite\",\"city\",\"without\",\"sense\",\"happened\",\"comes\",\"social\",\"probably\",\"light\",\"less\",\"energy\",\"talking\",\"am\",\"building\",\"science\",\"food\",\"body\",\"told\",\"interesting\",\"ask\",\"half\",\"pretty\",\"hard\",\"play\",\"anything\",\"lives\",\"countries\",\"such\",\"coming\",\"family\",\"stuff\",\"dollars\",\"earth\",\"moment\",\"20\",\"imagine\",\"across\",\"side\",\"while\",\"saw\",\"happen\",\"okay\",\"once\",\"build\",\"having\",\"men\",\"later\",\"experience\",\"asked\",\"makes\",\"living\",\"seen\",\"says\",\"room\",\"hand\",\"simple\",\"health\",\"ways\",\"else\",\"case\",\"yet\",\"almost\",\"young\",\"days\",\"nothing\",\"care\",\"bad\",\"happens\",\"goes\",\"move\",\"states\",\"reason\",\"computer\",\"open\",\"africa\",\"learn\",\"process\",\"inside\",\"someone\",\"six\",\"far\",\"project\",\"mind\",\"remember\",\"single\",\"picture\",\"both\",\"whether\",\"problems\",\"community\",\"saying\",\"basically\",\"already\",\"within\",\"looked\",\"myself\",\"billion\",\"often\",\"possible\",\"business\",\"planet\",\"global\",\"everybody\",\"top\",\"sure\",\"public\",\"set\",\"wrong\",\"car\",\"book\",\"keep\",\"yes\",\"answer\",\"oh\",\"sometimes\",\"hope\",\"history\",\"true\",\"war\",\"guy\",\"child\",\"instead\",\"months\",\"ideas\",\"looks\",\"matter\",\"government\",\"amazing\",\"united\",\"since\",\"bring\",\"age\",\"cells\",\"job\",\"heard\",\"until\",\"face\",\"wasn\",\"100\",\"read\",\"control\",\"isn\",\"research\",\"30\",\"words\",\"u\",\"group\",\"under\",\"self\",\"somebody\",\"built\",\"state\",\"woman\",\"turn\",\"beautiful\",\"friends\",\"line\",\"knew\",\"couple\",\"order\",\"form\",\"yeah\",\"internet\",\"middle\",\"music\",\"piece\",\"nature\",\"head\",\"though\",\"stop\",\"everyone\",\"50\",\"places\",\"video\",\"learned\",\"language\",\"run\",\"night\",\"decided\",\"study\",\"word\",\"cancer\",\"works\",\"taking\",\"became\",\"exactly\",\"species\",\"completely\",\"society\",\"education\",\"against\",\"stories\",\"large\",\"share\",\"level\",\"heart\",\"america\",\"model\",\"gets\",\"questions\",\"mother\",\"god\",\"company\",\"turns\",\"ourselves\",\"happening\",\"hear\",\"art\",\"themselves\",\"must\",\"itself\",\"rather\",\"kinds\",\"students\",\"name\",\"hours\",\"disease\",\"front\",\"house\",\"couldn\",\"huge\",\"created\",\"universe\",\"ok\",\"animals\",\"american\",\"environment\",\"worked\",\"minutes\",\"ones\",\"black\",\"perhaps\",\"1\",\"past\",\"third\",\"along\",\"others\",\"finally\",\"early\",\"sound\",\"game\",\"thousands\",\"century\",\"least\",\"based\",\"per\",\"ted\",\"lots\",\"figure\",\"free\",\"particular\",\"guys\",\"happy\",\"news\",\"learning\",\"entire\",\"won\",\"gave\",\"machine\",\"india\",\"during\",\"systems\",\"air\",\"difference\",\"outside\",\"taken\",\"natural\",\"seven\",\"changed\",\"given\",\"leave\",\"cell\",\"15\",\"close\",\"cities\",\"behind\",\"full\",\"scale\",\"china\",\"difficult\",\"takes\",\"companies\",\"area\",\"yourself\",\"reality\",\"seeing\",\"easy\",\"turned\",\"cost\",\"eyes\",\"moving\",\"team\",\"population\",\"culture\",\"york\",\"hands\",\"began\",\"whatever\",\"needs\",\"terms\",\"image\",\"simply\",\"needed\",\"beginning\",\"father\",\"local\",\"realized\",\"media\",\"parents\",\"death\",\"walk\",\"view\",\"white\",\"market\",\"parts\",\"ocean\",\"economic\",\"eight\",\"powerful\",\"week\",\"known\",\"size\",\"felt\",\"humans\",\"certain\",\"spend\",\"longer\",\"phone\",\"wonderful\",\"cannot\",\"common\",\"grow\",\"tried\",\"center\",\"fish\",\"land\",\"oil\",\"interested\",\"political\",\"deal\",\"red\",\"gone\",\"amount\",\"weeks\",\"opportunity\",\"spent\",\"lost\",\"paper\",\"quickly\",\"national\",\"blue\",\"step\",\"poor\",\"green\",\"buy\",\"growth\",\"wouldn\",\"either\",\"patients\",\"sitting\",\"ability\",\"changes\",\"write\",\"south\",\"challenge\",\"low\",\"friend\",\"growing\",\"field\",\"shows\",\"2\",\"born\",\"rest\",\"climate\",\"40\",\"test\",\"street\",\"surface\",\"incredible\",\"average\",\"value\",\"scientists\",\"program\",\"pay\",\"morning\",\"physical\",\"girl\",\"behavior\",\"met\",\"feeling\",\"hundreds\",\"economy\",\"dna\",\"complex\",\"access\",\"risk\",\"animal\",\"structure\",\"feet\",\"attention\",\"anyone\",\"areas\",\"deep\",\"watch\",\"short\",\"absolutely\",\"brought\",\"speak\",\"bottom\",\"die\",\"audience\",\"numbers\",\"stage\",\"realize\",\"law\",\"images\",\"wrote\",\"understanding\",\"books\",\"literally\",\"knowledge\",\"movement\",\"giving\",\"ground\",\"eat\",\"force\",\"seems\",\"alone\",\"telling\",\"hold\",\"starting\",\"nice\",\"forward\",\"sea\",\"developed\",\"kid\",\"individual\",\"millions\",\"support\",\"tools\",\"miles\",\"running\",\"online\",\"result\",\"technologies\",\"medical\",\"act\",\"north\",\"lab\",\"development\",\"blood\",\"fear\",\"map\",\"nobody\",\"personal\",\"issue\",\"voice\",\"key\",\"material\",\"12\",\"recently\",\"theory\",\"cut\",\"cars\",\"fast\",\"sun\",\"changing\",\"clear\",\"playing\",\"especially\",\"patient\",\"soon\",\"girls\",\"choice\",\"fly\",\"creating\",\"normal\",\"relationship\",\"europe\",\"talked\",\"discovered\",\"gives\",\"generation\",\"dark\",\"type\",\"showed\",\"asking\",\"seem\",\"industry\",\"chance\",\"rate\",\"color\",\"issues\",\"designed\",\"hour\",\"fun\",\"computers\",\"innovation\",\"university\",\"several\",\"class\",\"english\",\"tiny\",\"save\",\"focus\",\"allow\",\"developing\",\"digital\",\"solve\",\"network\",\"film\",\"special\",\"wall\",\"baby\",\"situation\",\"solution\",\"knows\",\"reasons\",\"box\",\"dead\",\"meet\",\"stand\",\"anybody\",\"haven\",\"impact\",\"begin\",\"term\",\"pictures\",\"beyond\",\"please\",\"produce\",\"ice\",\"shape\",\"non\",\"cool\",\"resources\",\"robot\",\"stay\",\"groups\",\"likely\",\"available\",\"rights\",\"major\",\"truth\",\"experiment\",\"evidence\",\"obviously\",\"cause\",\"writing\",\"modern\",\"drug\",\"incredibly\",\"becomes\",\"aren\",\"bigger\",\"guess\",\"product\",\"nine\",\"drugs\",\"lived\",\"involved\",\"month\",\"google\",\"perfect\",\"putting\",\"similar\",\"effect\",\"pick\",\"eye\",\"message\",\"quality\",\"violence\",\"web\",\"office\",\"evolution\",\"security\",\"basic\",\"solar\",\"general\",\"indeed\",\"towards\",\"present\",\"drive\",\"listen\",\"worth\",\"send\",\"revolution\",\"explain\",\"hundred\",\"certainly\",\"died\",\"teach\",\"ready\",\"journey\",\"25\",\"hit\",\"walking\",\"led\",\"approach\",\"international\",\"200\",\"scientific\",\"games\",\"crazy\",\"potential\",\"chinese\",\"60\",\"communities\",\"device\",\"source\",\"camera\",\"rules\",\"sex\",\"carbon\",\"sounds\",\"boy\",\"reach\",\"starts\",\"west\",\"examples\",\"3\",\"success\",\"software\",\"measure\",\"particularly\",\"totally\",\"suddenly\",\"action\",\"higher\",\"college\",\"code\",\"eventually\",\"democracy\",\"minute\",\"among\",\"sit\",\"largest\",\"showing\",\"hospital\",\"notice\",\"period\",\"develop\",\"mass\",\"dream\",\"onto\",\"plants\",\"add\",\"memory\",\"break\",\"zero\",\"everywhere\",\"favorite\",\"11\",\"moved\",\"speed\",\"schools\",\"response\",\"wants\",\"table\",\"individuals\",\"movie\",\"extremely\",\"wait\",\"follow\",\"anyway\",\"trust\",\"medicine\",\"biggest\",\"plant\",\"organization\",\"watching\",\"road\",\"creative\",\"choose\",\"worse\",\"500\",\"lead\",\"results\",\"exciting\",\"materials\",\"grew\",\"jobs\",\"positive\",\"east\",\"plan\",\"poverty\",\"strong\",\"fall\",\"safe\",\"essentially\",\"object\",\"door\",\"happiness\",\"continue\",\"further\",\"son\",\"vision\",\"doctor\",\"student\",\"role\",\"objects\",\"named\",\"including\",\"extraordinary\",\"standing\",\"conversation\",\"skin\",\"african\",\"usually\",\"leaders\",\"projects\",\"models\",\"allowed\",\"supposed\",\"interest\",\"faster\",\"families\",\"fight\",\"police\",\"tree\",\"connected\",\"screen\",\"5\",\"cases\",\"goal\",\"somewhere\",\"buildings\",\"finding\",\"shown\"],\"x1\":{\"__ndarray__\":\"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\",\"dtype\":\"float64\",\"shape\":[1000]},\"x2\":{\"__ndarray__\":\"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\",\"dtype\":\"float64\",\"shape\":[1000]}}},\"id\":\"9f5ec377-b635-48d1-95cd-d46374a79f17\",\"type\":\"ColumnDataSource\"},{\"attributes\":{\"callback\":null},\"id\":\"d52a0d7f-fb20-4a85-b83f-18c0f90c3177\",\"type\":\"DataRange1d\"},{\"attributes\":{},\"id\":\"1e706bd0-422a-4443-815a-9b2f1a1866e1\",\"type\":\"BasicTickFormatter\"},{\"attributes\":{\"plot\":{\"id\":\"bdb5cb41-55ec-4cf7-8e4b-365f2c0e0062\",\"subtype\":\"Figure\",\"type\":\"Plot\"},\"source\":{\"id\":\"9f5ec377-b635-48d1-95cd-d46374a79f17\",\"type\":\"ColumnDataSource\"},\"text\":{\"field\":\"names\"},\"text_align\":\"center\",\"text_color\":{\"value\":\"#555555\"},\"text_font_size\":{\"value\":\"8pt\"},\"x\":{\"field\":\"x1\"},\"y\":{\"field\":\"x2\"},\"y_offset\":{\"value\":6}},\"id\":\"c89b0717-4c5f-409d-9959-af97e21e74b8\",\"type\":\"LabelSet\"},{\"attributes\":{\"active_drag\":\"auto\",\"active_scroll\":\"auto\",\"active_tap\":\"auto\",\"tools\":[{\"id\":\"a7be7e8d-fbe4-4c37-916a-b1d81235e5cc\",\"type\":\"PanTool\"},{\"id\":\"303df07b-5daa-403b-be05-fa2bf35ee277\",\"type\":\"WheelZoomTool\"},{\"id\":\"25181b04-95e1-44cc-ab6c-380d32c8915f\",\"type\":\"ResetTool\"},{\"id\":\"699180cb-1cf3-4b05-8cea-c2aea0f60965\",\"type\":\"SaveTool\"}]},\"id\":\"cb44bef4-0ef5-422e-8b62-46d3b4fcdb54\",\"type\":\"Toolbar\"},{\"attributes\":{\"callback\":null},\"id\":\"e7b96d21-7738-4ead-af5b-1e1dd891a658\",\"type\":\"DataRange1d\"},{\"attributes\":{\"plot\":{\"id\":\"bdb5cb41-55ec-4cf7-8e4b-365f2c0e0062\",\"subtype\":\"Figure\",\"type\":\"Plot\"}},\"id\":\"25181b04-95e1-44cc-ab6c-380d32c8915f\",\"type\":\"ResetTool\"},{\"attributes\":{\"plot\":{\"id\":\"bdb5cb41-55ec-4cf7-8e4b-365f2c0e0062\",\"subtype\":\"Figure\",\"type\":\"Plot\"}},\"id\":\"a7be7e8d-fbe4-4c37-916a-b1d81235e5cc\",\"type\":\"PanTool\"},{\"attributes\":{\"below\":[{\"id\":\"a3502e84-8e1a-4c22-ad4f-93faada93374\",\"type\":\"LinearAxis\"}],\"left\":[{\"id\":\"dac0c86d-741a-455b-a5d7-1f8b580dd2fb\",\"type\":\"LinearAxis\"}],\"renderers\":[{\"id\":\"a3502e84-8e1a-4c22-ad4f-93faada93374\",\"type\":\"LinearAxis\"},{\"id\":\"8cb2b905-e6cb-4ef8-baae-64faf4d64a54\",\"type\":\"Grid\"},{\"id\":\"dac0c86d-741a-455b-a5d7-1f8b580dd2fb\",\"type\":\"LinearAxis\"},{\"id\":\"aae22c0d-a030-4eeb-a60b-395182009c2e\",\"type\":\"Grid\"},{\"id\":\"95e64ed2-c929-4244-b6dc-8d27c7e8e97c\",\"type\":\"GlyphRenderer\"},{\"id\":\"c89b0717-4c5f-409d-9959-af97e21e74b8\",\"type\":\"LabelSet\"}],\"title\":{\"id\":\"c73bb4cf-ccab-4df4-9d1f-1cbda653bc23\",\"type\":\"Title\"},\"tool_events\":{\"id\":\"c877b286-f6ce-4e74-b6a9-e95c45f52040\",\"type\":\"ToolEvents\"},\"toolbar\":{\"id\":\"cb44bef4-0ef5-422e-8b62-46d3b4fcdb54\",\"type\":\"Toolbar\"},\"toolbar_location\":\"above\",\"x_range\":{\"id\":\"d52a0d7f-fb20-4a85-b83f-18c0f90c3177\",\"type\":\"DataRange1d\"},\"y_range\":{\"id\":\"e7b96d21-7738-4ead-af5b-1e1dd891a658\",\"type\":\"DataRange1d\"}},\"id\":\"bdb5cb41-55ec-4cf7-8e4b-365f2c0e0062\",\"subtype\":\"Figure\",\"type\":\"Plot\"},{\"attributes\":{\"plot\":{\"id\":\"bdb5cb41-55ec-4cf7-8e4b-365f2c0e0062\",\"subtype\":\"Figure\",\"type\":\"Plot\"},\"ticker\":{\"id\":\"1bc277e4-e9dc-4e9d-8b53-0ad564e5b676\",\"type\":\"BasicTicker\"}},\"id\":\"8cb2b905-e6cb-4ef8-baae-64faf4d64a54\",\"type\":\"Grid\"},{\"attributes\":{\"formatter\":{\"id\":\"a1568688-d4c3-4fa0-9933-cc33ef7da649\",\"type\":\"BasicTickFormatter\"},\"plot\":{\"id\":\"bdb5cb41-55ec-4cf7-8e4b-365f2c0e0062\",\"subtype\":\"Figure\",\"type\":\"Plot\"},\"ticker\":{\"id\":\"011b84ea-2de3-4199-ab8a-aab5c528ea3f\",\"type\":\"BasicTicker\"}},\"id\":\"dac0c86d-741a-455b-a5d7-1f8b580dd2fb\",\"type\":\"LinearAxis\"},{\"attributes\":{},\"id\":\"1bc277e4-e9dc-4e9d-8b53-0ad564e5b676\",\"type\":\"BasicTicker\"},{\"attributes\":{\"plot\":{\"id\":\"bdb5cb41-55ec-4cf7-8e4b-365f2c0e0062\",\"subtype\":\"Figure\",\"type\":\"Plot\"}},\"id\":\"699180cb-1cf3-4b05-8cea-c2aea0f60965\",\"type\":\"SaveTool\"},{\"attributes\":{},\"id\":\"c877b286-f6ce-4e74-b6a9-e95c45f52040\",\"type\":\"ToolEvents\"},{\"attributes\":{\"formatter\":{\"id\":\"1e706bd0-422a-4443-815a-9b2f1a1866e1\",\"type\":\"BasicTickFormatter\"},\"plot\":{\"id\":\"bdb5cb41-55ec-4cf7-8e4b-365f2c0e0062\",\"subtype\":\"Figure\",\"type\":\"Plot\"},\"ticker\":{\"id\":\"1bc277e4-e9dc-4e9d-8b53-0ad564e5b676\",\"type\":\"BasicTicker\"}},\"id\":\"a3502e84-8e1a-4c22-ad4f-93faada93374\",\"type\":\"LinearAxis\"},{\"attributes\":{\"dimension\":1,\"plot\":{\"id\":\"bdb5cb41-55ec-4cf7-8e4b-365f2c0e0062\",\"subtype\":\"Figure\",\"type\":\"Plot\"},\"ticker\":{\"id\":\"011b84ea-2de3-4199-ab8a-aab5c528ea3f\",\"type\":\"BasicTicker\"}},\"id\":\"aae22c0d-a030-4eeb-a60b-395182009c2e\",\"type\":\"Grid\"},{\"attributes\":{\"fill_alpha\":{\"value\":0.1},\"fill_color\":{\"value\":\"#1f77b4\"},\"line_alpha\":{\"value\":0.1},\"line_color\":{\"value\":\"#1f77b4\"},\"size\":{\"units\":\"screen\",\"value\":8},\"x\":{\"field\":\"x1\"},\"y\":{\"field\":\"x2\"}},\"id\":\"71d1660c-8e18-4b50-b6b0-79ca4a8529bd\",\"type\":\"Circle\"},{\"attributes\":{\"plot\":{\"id\":\"bdb5cb41-55ec-4cf7-8e4b-365f2c0e0062\",\"subtype\":\"Figure\",\"type\":\"Plot\"}},\"id\":\"303df07b-5daa-403b-be05-fa2bf35ee277\",\"type\":\"WheelZoomTool\"},{\"attributes\":{\"plot\":null,\"text\":\"word2vec T-SNE for most common words\"},\"id\":\"c73bb4cf-ccab-4df4-9d1f-1cbda653bc23\",\"type\":\"Title\"},{\"attributes\":{},\"id\":\"011b84ea-2de3-4199-ab8a-aab5c528ea3f\",\"type\":\"BasicTicker\"},{\"attributes\":{\"data_source\":{\"id\":\"9f5ec377-b635-48d1-95cd-d46374a79f17\",\"type\":\"ColumnDataSource\"},\"glyph\":{\"id\":\"c5801a9b-afca-4859-a0f0-74fcac612fdf\",\"type\":\"Circle\"},\"hover_glyph\":null,\"nonselection_glyph\":{\"id\":\"71d1660c-8e18-4b50-b6b0-79ca4a8529bd\",\"type\":\"Circle\"},\"selection_glyph\":null},\"id\":\"95e64ed2-c929-4244-b6dc-8d27c7e8e97c\",\"type\":\"GlyphRenderer\"},{\"attributes\":{},\"id\":\"a1568688-d4c3-4fa0-9933-cc33ef7da649\",\"type\":\"BasicTickFormatter\"}],\"root_ids\":[\"bdb5cb41-55ec-4cf7-8e4b-365f2c0e0062\"]},\"title\":\"Bokeh Application\",\"version\":\"0.12.4\"}};\n",
       "            var render_items = [{\"docid\":\"1798e151-fe2c-40a7-bf90-82f9a63fdbbb\",\"elementid\":\"c6df85a6-a774-4927-b6ab-90d7ea9ad5c0\",\"modelid\":\"bdb5cb41-55ec-4cf7-8e4b-365f2c0e0062\"}];\n",
       "            \n",
       "            Bokeh.embed.embed_items(docs_json, render_items);\n",
       "          };\n",
       "          if (document.readyState != \"loading\") fn();\n",
       "          else document.addEventListener(\"DOMContentLoaded\", fn);\n",
       "        })();\n",
       "      },\n",
       "      function(Bokeh) {\n",
       "      }\n",
       "    ];\n",
       "  \n",
       "    function run_inline_js() {\n",
       "      \n",
       "      if ((window.Bokeh !== undefined) || (force === true)) {\n",
       "        for (var i = 0; i < inline_js.length; i++) {\n",
       "          inline_js[i](window.Bokeh);\n",
       "        }if (force === true) {\n",
       "          display_loaded();\n",
       "        }} else if (Date.now() < window._bokeh_timeout) {\n",
       "        setTimeout(run_inline_js, 100);\n",
       "      } else if (!window._bokeh_failed_load) {\n",
       "        console.log(\"Bokeh: BokehJS failed to load within specified timeout.\");\n",
       "        window._bokeh_failed_load = true;\n",
       "      } else if (force !== true) {\n",
       "        var cell = $(document.getElementById(\"c6df85a6-a774-4927-b6ab-90d7ea9ad5c0\")).parents('.cell').data().cell;\n",
       "        cell.output_area.append_execute_result(NB_LOAD_WARNING)\n",
       "      }\n",
       "  \n",
       "    }\n",
       "  \n",
       "    if (window._bokeh_is_loading === 0) {\n",
       "      console.log(\"Bokeh: BokehJS loaded, going straight to plotting\");\n",
       "      run_inline_js();\n",
       "    } else {\n",
       "      load_libs(js_urls, function() {\n",
       "        console.log(\"Bokeh: BokehJS plotting callback run at\", now());\n",
       "        run_inline_js();\n",
       "      });\n",
       "    }\n",
       "  }(this));\n",
       "</script>"
      ]
     },
     "metadata": {},
     "output_type": "display_data"
    }
   ],
   "source": [
    "p = figure(tools=\"pan,wheel_zoom,reset,save\",\n",
    "           toolbar_location=\"above\",\n",
    "           title=\"word2vec T-SNE for most common words\")\n",
    "\n",
    "source = ColumnDataSource(data=dict(x1=words_top_ted_tsne[:,0],\n",
    "                                    x2=words_top_ted_tsne[:,1],\n",
    "                                    names=words_top_ted))\n",
    "\n",
    "p.scatter(x=\"x1\", y=\"x2\", size=8, source=source)\n",
    "\n",
    "labels = LabelSet(x=\"x1\", y=\"x2\", text=\"names\", y_offset=6,\n",
    "                  text_font_size=\"8pt\", text_color=\"#555555\",\n",
    "                  source=source, text_align='center')\n",
    "p.add_layout(labels)\n",
    "\n",
    "show(p)"
   ]
  },
  {
   "cell_type": "markdown",
   "metadata": {},
   "source": [
    "### Part 5: Wiki Learnt Representations"
   ]
  },
  {
   "cell_type": "markdown",
   "metadata": {},
   "source": [
    "Download dataset"
   ]
  },
  {
   "cell_type": "code",
   "execution_count": 23,
   "metadata": {
    "collapsed": true
   },
   "outputs": [],
   "source": [
    "if not os.path.isfile('wikitext-103-raw-v1.zip'):\n",
    "    urllib.request.urlretrieve(\"https://s3.amazonaws.com/research.metamind.io/wikitext/wikitext-103-raw-v1.zip\", filename=\"wikitext-103-raw-v1.zip\")"
   ]
  },
  {
   "cell_type": "code",
   "execution_count": 24,
   "metadata": {
    "collapsed": false
   },
   "outputs": [],
   "source": [
    "with zipfile.ZipFile('wikitext-103-raw-v1.zip', 'r') as z:\n",
    "    input_text = str(z.open('wikitext-103-raw/wiki.train.raw', 'r').read(), encoding='utf-8') # Thanks Robert Bastian"
   ]
  },
  {
   "cell_type": "markdown",
   "metadata": {},
   "source": [
    "Preprocess sentences (note that it's important to remove small sentences for performance)"
   ]
  },
  {
   "cell_type": "code",
   "execution_count": 25,
   "metadata": {
    "collapsed": false
   },
   "outputs": [],
   "source": [
    "sentences_wiki = []\n",
    "for line in input_text.split('\\n'):\n",
    "    s = [x for x in line.split('.') if x and len(x.split()) >= 5]\n",
    "    sentences_wiki.extend(s)\n",
    "    \n",
    "for s_i in range(len(sentences_wiki)):\n",
    "    sentences_wiki[s_i] = re.sub(\"[^a-z]\", \" \", sentences_wiki[s_i].lower())\n",
    "    sentences_wiki[s_i] = re.sub(r'\\([^)]*\\)', '', sentences_wiki[s_i])\n",
    "del input_text"
   ]
  },
  {
   "cell_type": "code",
   "execution_count": 26,
   "metadata": {
    "collapsed": false
   },
   "outputs": [
    {
     "name": "stdout",
     "output_type": "stream",
     "text": [
      "4267112\n",
      "853422\n"
     ]
    }
   ],
   "source": [
    "# sample 1/5 of the data\n",
    "shuffle(sentences_wiki)\n",
    "print(len(sentences_wiki))\n",
    "sentences_wiki = sentences_wiki[:int(len(sentences_wiki)/5)]\n",
    "print(len(sentences_wiki))"
   ]
  },
  {
   "cell_type": "markdown",
   "metadata": {},
   "source": [
    "Now, repeat all the same steps that you performed above. You should be able to reuse essentially all the code."
   ]
  },
  {
   "cell_type": "code",
   "execution_count": 27,
   "metadata": {
    "collapsed": true
   },
   "outputs": [],
   "source": [
    "model_wiki = Word2Vec(sentences_wiki, min_count=1)"
   ]
  },
  {
   "cell_type": "code",
   "execution_count": 33,
   "metadata": {
    "collapsed": false
   },
   "outputs": [],
   "source": [
    "count_wiki = collections.Counter()\n",
    "for sentence in sentences_wiki:\n",
    "    for word in sentence:\n",
    "        count_wiki[word] += 1\n",
    "words_top_wiki = [token_count_pair[0] for token_count_pair in count.most_common(1000)]"
   ]
  },
  {
   "cell_type": "markdown",
   "metadata": {},
   "source": [
    "#### t-SNE visualization"
   ]
  },
  {
   "cell_type": "code",
   "execution_count": 35,
   "metadata": {
    "collapsed": false
   },
   "outputs": [
    {
     "ename": "KeyError",
     "evalue": "\"word 'the' not in vocabulary\"",
     "output_type": "error",
     "traceback": [
      "\u001b[0;31m---------------------------------------------------------------------------\u001b[0m",
      "\u001b[0;31mKeyError\u001b[0m                                  Traceback (most recent call last)",
      "\u001b[0;32m<ipython-input-35-f751a2d952c3>\u001b[0m in \u001b[0;36m<module>\u001b[0;34m()\u001b[0m\n\u001b[1;32m      1\u001b[0m \u001b[0;31m# This assumes words_top_wiki is a list of strings, the top 1000 words\u001b[0m\u001b[0;34m\u001b[0m\u001b[0;34m\u001b[0m\u001b[0m\n\u001b[0;32m----> 2\u001b[0;31m \u001b[0mwords_top_vec_wiki\u001b[0m \u001b[0;34m=\u001b[0m \u001b[0mmodel_ted_wiki\u001b[0m\u001b[0;34m[\u001b[0m\u001b[0mwords_top_wiki\u001b[0m\u001b[0;34m]\u001b[0m\u001b[0;34m\u001b[0m\u001b[0m\n\u001b[0m\u001b[1;32m      3\u001b[0m \u001b[0;34m\u001b[0m\u001b[0m\n\u001b[1;32m      4\u001b[0m \u001b[0mtsne\u001b[0m \u001b[0;34m=\u001b[0m \u001b[0mTSNE\u001b[0m\u001b[0;34m(\u001b[0m\u001b[0mn_components\u001b[0m\u001b[0;34m=\u001b[0m\u001b[0;36m2\u001b[0m\u001b[0;34m,\u001b[0m \u001b[0mrandom_state\u001b[0m\u001b[0;34m=\u001b[0m\u001b[0;36m0\u001b[0m\u001b[0;34m)\u001b[0m\u001b[0;34m\u001b[0m\u001b[0m\n\u001b[1;32m      5\u001b[0m \u001b[0mwords_top_wiki_tsne\u001b[0m \u001b[0;34m=\u001b[0m \u001b[0mtsne\u001b[0m\u001b[0;34m.\u001b[0m\u001b[0mfit_transform\u001b[0m\u001b[0;34m(\u001b[0m\u001b[0mwords_top_vec_wiki\u001b[0m\u001b[0;34m)\u001b[0m\u001b[0;34m\u001b[0m\u001b[0m\n",
      "\u001b[0;32m/home/michael/anaconda3/envs/tensorflow/lib/python3.5/site-packages/gensim/models/word2vec.py\u001b[0m in \u001b[0;36m__getitem__\u001b[0;34m(self, words)\u001b[0m\n\u001b[1;32m   1186\u001b[0m \u001b[0;34m\u001b[0m\u001b[0m\n\u001b[1;32m   1187\u001b[0m     \u001b[0;32mdef\u001b[0m \u001b[0m__getitem__\u001b[0m\u001b[0;34m(\u001b[0m\u001b[0mself\u001b[0m\u001b[0;34m,\u001b[0m \u001b[0mwords\u001b[0m\u001b[0;34m)\u001b[0m\u001b[0;34m:\u001b[0m\u001b[0;34m\u001b[0m\u001b[0m\n\u001b[0;32m-> 1188\u001b[0;31m         \u001b[0;32mreturn\u001b[0m \u001b[0mself\u001b[0m\u001b[0;34m.\u001b[0m\u001b[0mwv\u001b[0m\u001b[0;34m.\u001b[0m\u001b[0m__getitem__\u001b[0m\u001b[0;34m(\u001b[0m\u001b[0mwords\u001b[0m\u001b[0;34m)\u001b[0m\u001b[0;34m\u001b[0m\u001b[0m\n\u001b[0m\u001b[1;32m   1189\u001b[0m \u001b[0;34m\u001b[0m\u001b[0m\n\u001b[1;32m   1190\u001b[0m     \u001b[0;32mdef\u001b[0m \u001b[0m__contains__\u001b[0m\u001b[0;34m(\u001b[0m\u001b[0mself\u001b[0m\u001b[0;34m,\u001b[0m \u001b[0mword\u001b[0m\u001b[0;34m)\u001b[0m\u001b[0;34m:\u001b[0m\u001b[0;34m\u001b[0m\u001b[0m\n",
      "\u001b[0;32m/home/michael/anaconda3/envs/tensorflow/lib/python3.5/site-packages/gensim/models/keyedvectors.py\u001b[0m in \u001b[0;36m__getitem__\u001b[0;34m(self, words)\u001b[0m\n\u001b[1;32m    574\u001b[0m             \u001b[0;32mreturn\u001b[0m \u001b[0mself\u001b[0m\u001b[0;34m.\u001b[0m\u001b[0mword_vec\u001b[0m\u001b[0;34m(\u001b[0m\u001b[0mwords\u001b[0m\u001b[0;34m)\u001b[0m\u001b[0;34m\u001b[0m\u001b[0m\n\u001b[1;32m    575\u001b[0m \u001b[0;34m\u001b[0m\u001b[0m\n\u001b[0;32m--> 576\u001b[0;31m         \u001b[0;32mreturn\u001b[0m \u001b[0mvstack\u001b[0m\u001b[0;34m(\u001b[0m\u001b[0;34m[\u001b[0m\u001b[0mself\u001b[0m\u001b[0;34m.\u001b[0m\u001b[0mword_vec\u001b[0m\u001b[0;34m(\u001b[0m\u001b[0mword\u001b[0m\u001b[0;34m)\u001b[0m \u001b[0;32mfor\u001b[0m \u001b[0mword\u001b[0m \u001b[0;32min\u001b[0m \u001b[0mwords\u001b[0m\u001b[0;34m]\u001b[0m\u001b[0;34m)\u001b[0m\u001b[0;34m\u001b[0m\u001b[0m\n\u001b[0m\u001b[1;32m    577\u001b[0m \u001b[0;34m\u001b[0m\u001b[0m\n\u001b[1;32m    578\u001b[0m     \u001b[0;32mdef\u001b[0m \u001b[0m__contains__\u001b[0m\u001b[0;34m(\u001b[0m\u001b[0mself\u001b[0m\u001b[0;34m,\u001b[0m \u001b[0mword\u001b[0m\u001b[0;34m)\u001b[0m\u001b[0;34m:\u001b[0m\u001b[0;34m\u001b[0m\u001b[0m\n",
      "\u001b[0;32m/home/michael/anaconda3/envs/tensorflow/lib/python3.5/site-packages/gensim/models/keyedvectors.py\u001b[0m in \u001b[0;36m<listcomp>\u001b[0;34m(.0)\u001b[0m\n\u001b[1;32m    574\u001b[0m             \u001b[0;32mreturn\u001b[0m \u001b[0mself\u001b[0m\u001b[0;34m.\u001b[0m\u001b[0mword_vec\u001b[0m\u001b[0;34m(\u001b[0m\u001b[0mwords\u001b[0m\u001b[0;34m)\u001b[0m\u001b[0;34m\u001b[0m\u001b[0m\n\u001b[1;32m    575\u001b[0m \u001b[0;34m\u001b[0m\u001b[0m\n\u001b[0;32m--> 576\u001b[0;31m         \u001b[0;32mreturn\u001b[0m \u001b[0mvstack\u001b[0m\u001b[0;34m(\u001b[0m\u001b[0;34m[\u001b[0m\u001b[0mself\u001b[0m\u001b[0;34m.\u001b[0m\u001b[0mword_vec\u001b[0m\u001b[0;34m(\u001b[0m\u001b[0mword\u001b[0m\u001b[0;34m)\u001b[0m \u001b[0;32mfor\u001b[0m \u001b[0mword\u001b[0m \u001b[0;32min\u001b[0m \u001b[0mwords\u001b[0m\u001b[0;34m]\u001b[0m\u001b[0;34m)\u001b[0m\u001b[0;34m\u001b[0m\u001b[0m\n\u001b[0m\u001b[1;32m    577\u001b[0m \u001b[0;34m\u001b[0m\u001b[0m\n\u001b[1;32m    578\u001b[0m     \u001b[0;32mdef\u001b[0m \u001b[0m__contains__\u001b[0m\u001b[0;34m(\u001b[0m\u001b[0mself\u001b[0m\u001b[0;34m,\u001b[0m \u001b[0mword\u001b[0m\u001b[0;34m)\u001b[0m\u001b[0;34m:\u001b[0m\u001b[0;34m\u001b[0m\u001b[0m\n",
      "\u001b[0;32m/home/michael/anaconda3/envs/tensorflow/lib/python3.5/site-packages/gensim/models/keyedvectors.py\u001b[0m in \u001b[0;36mword_vec\u001b[0;34m(self, word, use_norm)\u001b[0m\n\u001b[1;32m    271\u001b[0m                 \u001b[0;32mreturn\u001b[0m \u001b[0mself\u001b[0m\u001b[0;34m.\u001b[0m\u001b[0msyn0\u001b[0m\u001b[0;34m[\u001b[0m\u001b[0mself\u001b[0m\u001b[0;34m.\u001b[0m\u001b[0mvocab\u001b[0m\u001b[0;34m[\u001b[0m\u001b[0mword\u001b[0m\u001b[0;34m]\u001b[0m\u001b[0;34m.\u001b[0m\u001b[0mindex\u001b[0m\u001b[0;34m]\u001b[0m\u001b[0;34m\u001b[0m\u001b[0m\n\u001b[1;32m    272\u001b[0m         \u001b[0;32melse\u001b[0m\u001b[0;34m:\u001b[0m\u001b[0;34m\u001b[0m\u001b[0m\n\u001b[0;32m--> 273\u001b[0;31m             \u001b[0;32mraise\u001b[0m \u001b[0mKeyError\u001b[0m\u001b[0;34m(\u001b[0m\u001b[0;34m\"word '%s' not in vocabulary\"\u001b[0m \u001b[0;34m%\u001b[0m \u001b[0mword\u001b[0m\u001b[0;34m)\u001b[0m\u001b[0;34m\u001b[0m\u001b[0m\n\u001b[0m\u001b[1;32m    274\u001b[0m \u001b[0;34m\u001b[0m\u001b[0m\n\u001b[1;32m    275\u001b[0m     \u001b[0;32mdef\u001b[0m \u001b[0mmost_similar\u001b[0m\u001b[0;34m(\u001b[0m\u001b[0mself\u001b[0m\u001b[0;34m,\u001b[0m \u001b[0mpositive\u001b[0m\u001b[0;34m=\u001b[0m\u001b[0;34m[\u001b[0m\u001b[0;34m]\u001b[0m\u001b[0;34m,\u001b[0m \u001b[0mnegative\u001b[0m\u001b[0;34m=\u001b[0m\u001b[0;34m[\u001b[0m\u001b[0;34m]\u001b[0m\u001b[0;34m,\u001b[0m \u001b[0mtopn\u001b[0m\u001b[0;34m=\u001b[0m\u001b[0;36m10\u001b[0m\u001b[0;34m,\u001b[0m \u001b[0mrestrict_vocab\u001b[0m\u001b[0;34m=\u001b[0m\u001b[0;32mNone\u001b[0m\u001b[0;34m,\u001b[0m \u001b[0mindexer\u001b[0m\u001b[0;34m=\u001b[0m\u001b[0;32mNone\u001b[0m\u001b[0;34m)\u001b[0m\u001b[0;34m:\u001b[0m\u001b[0;34m\u001b[0m\u001b[0m\n",
      "\u001b[0;31mKeyError\u001b[0m: \"word 'the' not in vocabulary\""
     ]
    }
   ],
   "source": [
    "# This assumes words_top_wiki is a list of strings, the top 1000 words\n",
    "words_top_vec_wiki = model_wiki[words_top_wiki]\n",
    "\n",
    "tsne = TSNE(n_components=2, random_state=0)\n",
    "words_top_wiki_tsne = tsne.fit_transform(words_top_vec_wiki)"
   ]
  },
  {
   "cell_type": "code",
   "execution_count": null,
   "metadata": {
    "collapsed": false
   },
   "outputs": [],
   "source": [
    "p = figure(tools=\"pan,wheel_zoom,reset,save\",\n",
    "           toolbar_location=\"above\",\n",
    "           title=\"word2vec T-SNE for most common words\")\n",
    "\n",
    "source = ColumnDataSource(data=dict(x1=words_top_wiki_tsne[:,0],\n",
    "                                    x2=words_top_wiki_tsne[:,1],\n",
    "                                    names=words_top_wiki))\n",
    "\n",
    "p.scatter(x=\"x1\", y=\"x2\", size=8, source=source)\n",
    "\n",
    "labels = LabelSet(x=\"x1\", y=\"x2\", text=\"names\", y_offset=6,\n",
    "                  text_font_size=\"8pt\", text_color=\"#555555\",\n",
    "                  source=source, text_align='center')\n",
    "p.add_layout(labels)\n",
    "\n",
    "show(p)"
   ]
  }
 ],
 "metadata": {
  "anaconda-cloud": {},
  "kernelspec": {
   "display_name": "Python [default]",
   "language": "python",
   "name": "python3"
  },
  "language_info": {
   "codemirror_mode": {
    "name": "ipython",
    "version": 3
   },
   "file_extension": ".py",
   "mimetype": "text/x-python",
   "name": "python",
   "nbconvert_exporter": "python",
   "pygments_lexer": "ipython3",
   "version": "3.5.2"
  }
 },
 "nbformat": 4,
 "nbformat_minor": 0
}
